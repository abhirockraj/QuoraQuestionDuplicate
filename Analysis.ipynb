{
 "cells": [
  {
   "cell_type": "code",
   "execution_count": null,
   "id": "H30f00GyVReH",
   "metadata": {
    "id": "H30f00GyVReH"
   },
   "outputs": [],
   "source": [
    "!pip install tensorflow_text"
   ]
  },
  {
   "cell_type": "code",
   "execution_count": 65,
   "id": "9d7540b5-a75d-4604-b421-ecfd543f15b3",
   "metadata": {
    "id": "9d7540b5-a75d-4604-b421-ecfd543f15b3"
   },
   "outputs": [],
   "source": [
    "import pandas as pd\n",
    "import numpy as np\n",
    "from matplotlib import pyplot as plt\n",
    "import tensorflow_hub as hub\n",
    "import tensorflow_text\n",
    "import tensorflow as tf\n",
    "from tensorflow.keras.layers import Input\n",
    "from tensorflow.keras import Sequential\n",
    "from tensorflow.keras.layers import Dense\n",
    "from tensorflow.keras.optimizers import Adam\n",
    "from tensorflow.keras.layers import Dropout\n",
    "from tensorflow.keras.losses import SparseCategoricalCrossentropy\n",
    "from tensorflow.keras.losses import CategoricalCrossentropy\n",
    "from sklearn.model_selection import train_test_split\n",
    "from tensorflow.keras import Model\n",
    "from tqdm import tqdm\n",
    "from sklearn.metrics.pairwise import cosine_similarity\n",
    "import seaborn as sns"
   ]
  },
  {
   "cell_type": "code",
   "execution_count": 2,
   "id": "7382b837-c14f-4dbd-b092-a25a64be4245",
   "metadata": {
    "colab": {
     "base_uri": "https://localhost:8080/",
     "height": 206
    },
    "id": "7382b837-c14f-4dbd-b092-a25a64be4245",
    "outputId": "b74357f6-1474-4608-da6c-32f36f21db27"
   },
   "outputs": [
    {
     "data": {
      "text/html": [
       "<div>\n",
       "<style scoped>\n",
       "    .dataframe tbody tr th:only-of-type {\n",
       "        vertical-align: middle;\n",
       "    }\n",
       "\n",
       "    .dataframe tbody tr th {\n",
       "        vertical-align: top;\n",
       "    }\n",
       "\n",
       "    .dataframe thead th {\n",
       "        text-align: right;\n",
       "    }\n",
       "</style>\n",
       "<table border=\"1\" class=\"dataframe\">\n",
       "  <thead>\n",
       "    <tr style=\"text-align: right;\">\n",
       "      <th></th>\n",
       "      <th>question1</th>\n",
       "      <th>question2</th>\n",
       "      <th>is_duplicate</th>\n",
       "    </tr>\n",
       "  </thead>\n",
       "  <tbody>\n",
       "    <tr>\n",
       "      <th>0</th>\n",
       "      <td>How do I play Pokémon GO in Korea?</td>\n",
       "      <td>How do I play Pokémon GO in China?</td>\n",
       "      <td>0</td>\n",
       "    </tr>\n",
       "    <tr>\n",
       "      <th>1</th>\n",
       "      <td>What are some of the best side dishes for crab...</td>\n",
       "      <td>What are some good side dishes for buffalo chi...</td>\n",
       "      <td>0</td>\n",
       "    </tr>\n",
       "    <tr>\n",
       "      <th>2</th>\n",
       "      <td>Which is more advisable and better material fo...</td>\n",
       "      <td>What is the best server setup for buddypress?</td>\n",
       "      <td>0</td>\n",
       "    </tr>\n",
       "    <tr>\n",
       "      <th>3</th>\n",
       "      <td>How do I improve logical programming skills?</td>\n",
       "      <td>How can I improve my logical skills for progra...</td>\n",
       "      <td>1</td>\n",
       "    </tr>\n",
       "    <tr>\n",
       "      <th>4</th>\n",
       "      <td>How close we are to see 3rd world war?</td>\n",
       "      <td>How close is a World War III?</td>\n",
       "      <td>1</td>\n",
       "    </tr>\n",
       "  </tbody>\n",
       "</table>\n",
       "</div>"
      ],
      "text/plain": [
       "                                           question1  \\\n",
       "0                 How do I play Pokémon GO in Korea?   \n",
       "1  What are some of the best side dishes for crab...   \n",
       "2  Which is more advisable and better material fo...   \n",
       "3       How do I improve logical programming skills?   \n",
       "4             How close we are to see 3rd world war?   \n",
       "\n",
       "                                           question2  is_duplicate  \n",
       "0                 How do I play Pokémon GO in China?             0  \n",
       "1  What are some good side dishes for buffalo chi...             0  \n",
       "2      What is the best server setup for buddypress?             0  \n",
       "3  How can I improve my logical skills for progra...             1  \n",
       "4                      How close is a World War III?             1  "
      ]
     },
     "execution_count": 2,
     "metadata": {},
     "output_type": "execute_result"
    }
   ],
   "source": [
    "df = pd.read_csv('quora.csv', index_col='Unnamed: 0')\n",
    "inst_df = df[['question1','question2','is_duplicate']]\n",
    "inst_df.head()"
   ]
  },
  {
   "cell_type": "code",
   "execution_count": null,
   "id": "0743892f-a7d0-47fb-982f-75fd0fdb3502",
   "metadata": {
    "colab": {
     "base_uri": "https://localhost:8080/"
    },
    "id": "0743892f-a7d0-47fb-982f-75fd0fdb3502",
    "outputId": "8e4b210c-f4ec-47c5-b69d-814ed8b49277"
   },
   "outputs": [
    {
     "data": {
      "text/plain": [
       "question1       0\n",
       "question2       0\n",
       "is_duplicate    0\n",
       "dtype: int64"
      ]
     },
     "execution_count": 4,
     "metadata": {},
     "output_type": "execute_result"
    }
   ],
   "source": [
    "inst_df.isnull().sum()"
   ]
  },
  {
   "cell_type": "code",
   "execution_count": 3,
   "id": "f99633ee-4dd5-4d99-814b-a2ef859af5af",
   "metadata": {
    "colab": {
     "base_uri": "https://localhost:8080/",
     "height": 248
    },
    "id": "f99633ee-4dd5-4d99-814b-a2ef859af5af",
    "outputId": "b65d3d47-fbaf-4ac3-dc0b-d7d4e6322508"
   },
   "outputs": [
    {
     "data": {
      "image/png": "[encoded data removed]",
      "text/plain": [
       "<Figure size 640x480 with 1 Axes>"
      ]
     },
     "metadata": {},
     "output_type": "display_data"
    }
   ],
   "source": [
    "plt.pie( inst_df.is_duplicate.value_counts(),labels=df.is_duplicate.unique(),autopct='%.1f%%')\n",
    "plt.show()"
   ]
  },
  {
   "cell_type": "markdown",
   "id": "0908ade3-a411-42f7-85dc-250b9a268af7",
   "metadata": {
    "id": "0908ade3-a411-42f7-85dc-250b9a268af7"
   },
   "source": [
    "## Number of total rows is about 1,00,000. So reducing the Class 0 in inst_df"
   ]
  },
  {
   "cell_type": "code",
   "execution_count": 4,
   "id": "645169c8-7894-4a52-a108-88776a764839",
   "metadata": {
    "colab": {
     "base_uri": "https://localhost:8080/"
    },
    "id": "645169c8-7894-4a52-a108-88776a764839",
    "outputId": "56453d47-30aa-4469-8c83-3a6fbf0ee7d2"
   },
   "outputs": [
    {
     "data": {
      "text/plain": [
       "question1       5030\n",
       "question2       5030\n",
       "is_duplicate    5030\n",
       "dtype: int64"
      ]
     },
     "execution_count": 4,
     "metadata": {},
     "output_type": "execute_result"
    }
   ],
   "source": [
    "newdf= inst_df[inst_df['is_duplicate']==0]\n",
    "newdf.count()\n",
    "newdf=newdf.sample(frac=1,random_state=1).reset_index(drop=True)\n",
    "newdf = newdf[:int(len(newdf)*0.08)]\n",
    "newdf.count()"
   ]
  },
  {
   "cell_type": "code",
   "execution_count": 5,
   "id": "26486100-dd5f-4a11-b388-51daa838be5e",
   "metadata": {
    "colab": {
     "base_uri": "https://localhost:8080/"
    },
    "id": "26486100-dd5f-4a11-b388-51daa838be5e",
    "outputId": "daae412d-da52-40c9-f99a-6dba7ae6c8fa"
   },
   "outputs": [
    {
     "data": {
      "text/plain": [
       "question1       5011\n",
       "question2       5011\n",
       "is_duplicate    5011\n",
       "dtype: int64"
      ]
     },
     "execution_count": 5,
     "metadata": {},
     "output_type": "execute_result"
    }
   ],
   "source": [
    "newdf1= inst_df[inst_df['is_duplicate']==1]\n",
    "newdf1.count()\n",
    "newdf1=newdf1.sample(frac=1, random_state=1).reset_index(drop=True)\n",
    "newdf1 = newdf1[:int(len(newdf1)*0.135)]\n",
    "newdf1.count()"
   ]
  },
  {
   "cell_type": "code",
   "execution_count": 6,
   "id": "UnNyx07GWHxi",
   "metadata": {
    "id": "UnNyx07GWHxi"
   },
   "outputs": [
    {
     "data": {
      "text/html": [
       "<div>\n",
       "<style scoped>\n",
       "    .dataframe tbody tr th:only-of-type {\n",
       "        vertical-align: middle;\n",
       "    }\n",
       "\n",
       "    .dataframe tbody tr th {\n",
       "        vertical-align: top;\n",
       "    }\n",
       "\n",
       "    .dataframe thead th {\n",
       "        text-align: right;\n",
       "    }\n",
       "</style>\n",
       "<table border=\"1\" class=\"dataframe\">\n",
       "  <thead>\n",
       "    <tr style=\"text-align: right;\">\n",
       "      <th></th>\n",
       "      <th>question1</th>\n",
       "      <th>question2</th>\n",
       "      <th>is_duplicate</th>\n",
       "    </tr>\n",
       "  </thead>\n",
       "  <tbody>\n",
       "    <tr>\n",
       "      <th>0</th>\n",
       "      <td>How do I deal with social anxiety disorder?</td>\n",
       "      <td>How do I deal with my social anxiety?</td>\n",
       "      <td>1</td>\n",
       "    </tr>\n",
       "    <tr>\n",
       "      <th>1</th>\n",
       "      <td>How can I recover my Hotmail password?</td>\n",
       "      <td>How do I recover my Hotmail password?</td>\n",
       "      <td>1</td>\n",
       "    </tr>\n",
       "    <tr>\n",
       "      <th>2</th>\n",
       "      <td>Can I please get a crown on musical.ly?</td>\n",
       "      <td>How do you get a crown in Musical.ly?</td>\n",
       "      <td>1</td>\n",
       "    </tr>\n",
       "    <tr>\n",
       "      <th>3</th>\n",
       "      <td>How do I start a new life in a new Country?</td>\n",
       "      <td>Where can I start a new life in new country ea...</td>\n",
       "      <td>1</td>\n",
       "    </tr>\n",
       "    <tr>\n",
       "      <th>4</th>\n",
       "      <td>What are must have apps?</td>\n",
       "      <td>What are some of the must-have apps?</td>\n",
       "      <td>1</td>\n",
       "    </tr>\n",
       "  </tbody>\n",
       "</table>\n",
       "</div>"
      ],
      "text/plain": [
       "                                     question1  \\\n",
       "0  How do I deal with social anxiety disorder?   \n",
       "1       How can I recover my Hotmail password?   \n",
       "2      Can I please get a crown on musical.ly?   \n",
       "3  How do I start a new life in a new Country?   \n",
       "4                     What are must have apps?   \n",
       "\n",
       "                                           question2  is_duplicate  \n",
       "0              How do I deal with my social anxiety?             1  \n",
       "1              How do I recover my Hotmail password?             1  \n",
       "2              How do you get a crown in Musical.ly?             1  \n",
       "3  Where can I start a new life in new country ea...             1  \n",
       "4               What are some of the must-have apps?             1  "
      ]
     },
     "execution_count": 6,
     "metadata": {},
     "output_type": "execute_result"
    }
   ],
   "source": [
    "final_df = pd.concat([newdf1,newdf])\n",
    "final_df.sample(frac=1,random_state=10).reset_index(drop=True)\n",
    "final_df.head()"
   ]
  },
  {
   "cell_type": "code",
   "execution_count": 7,
   "id": "c124baec-8a10-41f4-bcdc-690fdaa6c3c1",
   "metadata": {
    "id": "c124baec-8a10-41f4-bcdc-690fdaa6c3c1"
   },
   "outputs": [
    {
     "name": "stdout",
     "output_type": "stream",
     "text": [
      "WARNING:tensorflow:Please fix your imports. Module tensorflow.python.training.tracking.data_structures has been moved to tensorflow.python.trackable.data_structures. The old module will be deleted in version 2.11.\n"
     ]
    }
   ],
   "source": [
    "preprocessor = hub.KerasLayer(\"https://tfhub.dev/tensorflow/bert_en_uncased_preprocess/3\")\n",
    "encoder = hub.KerasLayer(\"https://tfhub.dev/tensorflow/bert_en_uncased_L-12_H-768_A-12/4\")"
   ]
  },
  {
   "cell_type": "code",
   "execution_count": 8,
   "id": "a5c4948c-6255-467b-8d46-4a9ee5716d53",
   "metadata": {
    "colab": {
     "base_uri": "https://localhost:8080/"
    },
    "id": "a5c4948c-6255-467b-8d46-4a9ee5716d53",
    "outputId": "e859995a-a3ff-4607-e9a5-9136549fb676"
   },
   "outputs": [],
   "source": [
    "text_input = tf.keras.layers.Input(shape=(), dtype=tf.string)\n",
    "encoder_inputs = preprocessor(text_input)\n",
    "outputs = encoder(encoder_inputs)\n",
    "pooled_output = outputs[\"pooled_output\"]\n",
    "embedding_model = tf.keras.Model(text_input, pooled_output)"
   ]
  },
  {
   "cell_type": "code",
   "execution_count": null,
   "id": "989827e3-b740-4f00-bd9e-59d226ad8031",
   "metadata": {
    "id": "989827e3-b740-4f00-bd9e-59d226ad8031"
   },
   "outputs": [],
   "source": [
    "l= []\n",
    "with tf.device('/gpu:0'):\n",
    "    sentences = tf.constant(np.asarray(final_df['question1']).reshape(final_df['question1'].shape[0],1))\n",
    "    l=embedding_model(sentences)"
   ]
  },
  {
   "cell_type": "code",
   "execution_count": 13,
   "id": "c3759555-9398-468e-b7fd-636e49270a08",
   "metadata": {
    "id": "c3759555-9398-468e-b7fd-636e49270a08",
    "outputId": "340dc40f-f93c-4859-d2cf-d8a71f2eb047"
   },
   "outputs": [
    {
     "name": "stderr",
     "output_type": "stream",
     "text": [
      "100%|████████████████████████████████████████████████████████████████████████████| 10041/10041 [35:38<00:00,  4.70it/s]\n"
     ]
    }
   ],
   "source": [
    "l=[]\n",
    "for i in tqdm(final_df['question1']):\n",
    "    sentence = tf.constant([i])\n",
    "    l.append(embedding_model(sentence)[0][:])"
   ]
  },
  {
   "cell_type": "code",
   "execution_count": 22,
   "id": "d174a3a8-b7d3-4849-8a0c-b61b447d76a0",
   "metadata": {
    "id": "d174a3a8-b7d3-4849-8a0c-b61b447d76a0"
   },
   "outputs": [
    {
     "data": {
      "text/plain": [
       "(10041, 768)"
      ]
     },
     "execution_count": 22,
     "metadata": {},
     "output_type": "execute_result"
    }
   ],
   "source": [
    "q1 = np.array(l)\n",
    "q1.shape"
   ]
  },
  {
   "cell_type": "code",
   "execution_count": 23,
   "id": "65b8bd57-8546-4039-a955-0da996377edb",
   "metadata": {},
   "outputs": [],
   "source": [
    "np.savetxt('q2_transformed.csv', q1, delimiter=',')"
   ]
  },
  {
   "cell_type": "code",
   "execution_count": 21,
   "id": "5a2826a6-798b-41dc-bcca-e86757c42013",
   "metadata": {},
   "outputs": [
    {
     "name": "stderr",
     "output_type": "stream",
     "text": [
      "100%|████████████████████████████████████████████████████████████████████████████| 10041/10041 [23:20<00:00,  7.17it/s]\n"
     ]
    }
   ],
   "source": [
    "l=[]\n",
    "for i in tqdm(final_df['question2']):\n",
    "    sentence = tf.constant([i])\n",
    "    l.append(embedding_model(sentence)[0][:])"
   ]
  },
  {
   "cell_type": "markdown",
   "id": "595bcc7a-c040-43e0-8cdc-b633157a3438",
   "metadata": {},
   "source": [
    "## Loading transfromed data from csv to np for cosine similarity "
   ]
  },
  {
   "cell_type": "code",
   "execution_count": 34,
   "id": "7f2c9cbc-bfeb-4cfc-a9c7-6cefdd4c8caa",
   "metadata": {},
   "outputs": [
    {
     "data": {
      "text/plain": [
       "(10041, 768)"
      ]
     },
     "execution_count": 34,
     "metadata": {},
     "output_type": "execute_result"
    }
   ],
   "source": [
    "q1 = np.loadtxt('q1_transformed.csv', delimiter=',')\n",
    "q2 = np.loadtxt('q2_transformed.csv', delimiter=',')\n",
    "q2.shape"
   ]
  },
  {
   "cell_type": "code",
   "execution_count": 73,
   "id": "fac07086-f1f2-426f-9a98-6c985c85f966",
   "metadata": {},
   "outputs": [
    {
     "name": "stderr",
     "output_type": "stream",
     "text": [
      "10041it [00:01, 6548.39it/s]\n"
     ]
    }
   ],
   "source": [
    "a=[]\n",
    "for i,j in tqdm(zip(q1, q2)):\n",
    "    a.append(round(cosine_similarity(i.reshape(1, len(i)), j.reshape(1,len(j)))[0][0],2))"
   ]
  },
  {
   "cell_type": "code",
   "execution_count": 82,
   "id": "5a779d0b-48a2-4943-9a23-52c6e33622ab",
   "metadata": {},
   "outputs": [
    {
     "data": {
      "text/plain": [
       "(10041, 2)"
      ]
     },
     "execution_count": 82,
     "metadata": {},
     "output_type": "execute_result"
    }
   ],
   "source": [
    "y = np.array(final_df.is_duplicate).reshape(len(a),1)\n",
    "np_cosine=np.array(a).reshape(len(a),1)\n",
    "n = np.concatenate((np_cosine, y), axis=1)\n",
    "n.shape"
   ]
  },
  {
   "cell_type": "code",
   "execution_count": 86,
   "id": "5ee2a4a4-2150-4fec-ad8a-34dc33a7de78",
   "metadata": {},
   "outputs": [
    {
     "data": {
      "text/html": [
       "<div>\n",
       "<style scoped>\n",
       "    .dataframe tbody tr th:only-of-type {\n",
       "        vertical-align: middle;\n",
       "    }\n",
       "\n",
       "    .dataframe tbody tr th {\n",
       "        vertical-align: top;\n",
       "    }\n",
       "\n",
       "    .dataframe thead th {\n",
       "        text-align: right;\n",
       "    }\n",
       "</style>\n",
       "<table border=\"1\" class=\"dataframe\">\n",
       "  <thead>\n",
       "    <tr style=\"text-align: right;\">\n",
       "      <th></th>\n",
       "      <th>cosineValue</th>\n",
       "      <th>class</th>\n",
       "    </tr>\n",
       "  </thead>\n",
       "  <tbody>\n",
       "    <tr>\n",
       "      <th>10036</th>\n",
       "      <td>0.96</td>\n",
       "      <td>0.0</td>\n",
       "    </tr>\n",
       "    <tr>\n",
       "      <th>10037</th>\n",
       "      <td>0.94</td>\n",
       "      <td>0.0</td>\n",
       "    </tr>\n",
       "    <tr>\n",
       "      <th>10038</th>\n",
       "      <td>0.97</td>\n",
       "      <td>0.0</td>\n",
       "    </tr>\n",
       "    <tr>\n",
       "      <th>10039</th>\n",
       "      <td>1.00</td>\n",
       "      <td>0.0</td>\n",
       "    </tr>\n",
       "    <tr>\n",
       "      <th>10040</th>\n",
       "      <td>0.94</td>\n",
       "      <td>0.0</td>\n",
       "    </tr>\n",
       "  </tbody>\n",
       "</table>\n",
       "</div>"
      ],
      "text/plain": [
       "       cosineValue  class\n",
       "10036         0.96    0.0\n",
       "10037         0.94    0.0\n",
       "10038         0.97    0.0\n",
       "10039         1.00    0.0\n",
       "10040         0.94    0.0"
      ]
     },
     "execution_count": 86,
     "metadata": {},
     "output_type": "execute_result"
    }
   ],
   "source": [
    "df_Final = pd.DataFrame(n, columns=[\"cosineValue\",\"class\"])\n",
    "df_Final.tail()"
   ]
  },
  {
   "cell_type": "code",
   "execution_count": 116,
   "id": "06fd5aa2-59bd-4b4f-9aec-b3deece50037",
   "metadata": {},
   "outputs": [
    {
     "data": {
      "image/png": "[encoded data removed]",
      "text/plain": [
       "<Figure size 640x480 with 1 Axes>"
      ]
     },
     "metadata": {},
     "output_type": "display_data"
    }
   ],
   "source": [
    "sns.scatterplot(data=df_Final, x= 'cosineValue',y= 'class',hue='class')\n",
    "plt.show()"
   ]
  },
  {
   "cell_type": "markdown",
   "id": "afe7029d-0891-4bbf-9870-f504d470dfc9",
   "metadata": {},
   "source": [
    "# Upon obeserving the result of cosine similarity, it is advisible to make another column \n",
    "# based upon following condition, if( cosine_similaity < 0.7 then it surely a non dulicate question pair else there is a doubt) "
   ]
  },
  {
   "cell_type": "code",
   "execution_count": null,
   "id": "bbb3f6d3-6284-4c48-8efe-f05540c3f15d",
   "metadata": {},
   "outputs": [],
   "source": []
  }
 ],
 "metadata": {
  "accelerator": "GPU",
  "colab": {
   "provenance": []
  },
  "gpuClass": "standard",
  "kernelspec": {
   "display_name": "Python 3 (ipykernel)",
   "language": "python",
   "name": "python3"
  },
  "language_info": {
   "codemirror_mode": {
    "name": "ipython",
    "version": 3
   },
   "file_extension": ".py",
   "mimetype": "text/x-python",
   "name": "python",
   "nbconvert_exporter": "python",
   "pygments_lexer": "ipython3",
   "version": "3.9.12"
  }
 },
 "nbformat": 4,
 "nbformat_minor": 5
}
